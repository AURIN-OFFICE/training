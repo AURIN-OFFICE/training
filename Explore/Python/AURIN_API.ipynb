{
 "cells": [
  {
   "cell_type": "markdown",
   "id": "protected-italic",
   "metadata": {},
   "source": [
    "### LEARN TO explore\n",
    "\n",
    "Accessing the AURIN API via PYTHON\n",
    "====================================================================================\n",
    "\n",
    "##### _This tutorial is also available on the following GitHub repository:_ <img src=\"https://github.com/fluidicon.png\" alt=\"drawing\" width=\"15\"/> [GitHub – AURIN-OFFICE/training](https://github.com/AURIN-OFFICE/training)\n",
    "\n",
    "\n",
    "\n",
    "### This tutorial introduces how to use Python to connect to the AURIN API or to access and download the AURIN data. This is designed with no prerequisite of Python experience.\n",
    "\n",
    "The AURIN Application Programming Interface (API), is an interface that allows you to use a programming language to interact with an application, and perform tasks such as getting data, updating data, or deleting data. The AURIN API is such an interface that allows users to access data and metadata available from the AURIN Data Catalogue. You can send a request to the API using Python scripts and get a response to download specific datasets. The API is based on [Open Geospatial Consortium](https://en.wikipedia.org/wiki/Open_Geospatial_Consortium \"https://en.wikipedia.org/wiki/Open_Geospatial_Consortium\") Web Feature Service (WFS) Interface Standards.\n",
    "\n",
    "> Before commencing this step, please ensure you have generated your unique **API Access Credentials** (username and password) using the [AURIN Access Dashboard](https://adp-access.aurin.org.au/ \"https://adp-access.aurin.org.au/\").\n",
    "> \n",
    "> Please note the API access password will expire in 90 days for security reasons. You can always get a new password by visiting the API Access page.\n",
    "\n",
    "\n",
    "Tutorial Goals\n",
    "--------------\n",
    "\n",
    "In this tutorial, our goal is to use a Python script to connect to the ADP and download a dataset. You will learn how to:\n",
    "\n",
    "1.  Choose between different Python environments\n",
    "    \n",
    "2.  Install related Python packages\n",
    "    \n",
    "3.  Use Python coding environments\n",
    "    \n",
    "4.  Interact with the AURIN API\n",
    "    \n",
    "    a. Setup connection parameter  \n",
    "    b.  List available datasets  \n",
    "    c.  Download data  \n",
    "    d.  View data  \n",
    "    e.  Visualise data  \n",
    "    f.  Download data in other formats  \n",
    "    g.  Filter data by bounding box\n",
    "    \n",
    "\n",
    "1\\. Choose Between Different Python Environments\n",
    "------------------------------------------------\n",
    "\n",
    "[Python](https://www.python.org/ \"https://www.python.org/\") is a free and open-source [high-level](https://en.wikipedia.org/wiki/High-level_programming_language \"https://en.wikipedia.org/wiki/High-level_programming_language\"), [interpreted](https://en.wikipedia.org/wiki/Interpreter_(computing) \"https://en.wikipedia.org/wiki/Interpreter_(computing)\"), [general-purpose programming language](https://en.wikipedia.org/wiki/General-purpose_programming_language \"https://en.wikipedia.org/wiki/General-purpose_programming_language\"). It is widely used in data science and has become a very powerful tool for data analysts from all disciplines, from economics to ecology and geography. The [geographic information system](https://en.wikipedia.org/wiki/Geographic_information_system \"https://en.wikipedia.org/wiki/Geographic_information_system\") (GIS) capabilities of Python have developed significantly over the last decade.\n",
    "\n",
    "If you are getting started with Python, we suggest you use a cloud environment, such as Google Colab, as it has Python and some libraries already installed. If you wish to use your personal computer, we recommend using Python version 3.7.0 or later. We hope the image below may help you understand the benefits and limitations of each option.\n",
    "\n",
    "![](https://aurin.org.au/wp-content/uploads/2024/03/Python-Tutorial-–-Image-1.png)\n",
    "\n",
    "\n",
    "### a. Cloud Environment: Google Colab\n",
    "\n",
    "Google Colab has an option of free Google research environment for users with a Google account. Google Colab has tutorials and blogs for you to learn the basics about this cloud environment. Here are the links:  [<img src=\"https://ssl.gstatic.com/colaboratory-static/common/8f7f9e638c98b96f300eabeb3c2051a6/img/favicon.ico\" alt=\"drawing\" width=\"20\"/> Google Colaboratory](https://colab.research.google.com/) [![](https://miro.medium.com/1*m-R_BkNf1Qjr1YbyOIJY2w.png)Google Colab – Medium](https://medium.com/google-colab)\n",
    "\n",
    "Open a new Python notebook: click _**File**_ → _**New notebook**_. Please sign in with your Google account.\n",
    "\n",
    "![](https://aurin.org.au/wp-content/uploads/2024/03/Python-Tutorial-–-Image-2.png)\n",
    "\n",
    "\n",
    "\n",
    "This will bring you to a new notebook environment and you are ready for the first line of code.\n",
    "\n",
    "![](https://aurin.org.au/wp-content/uploads/2022/07/Screen-Shot-2022-07-05-at-7.32.32-am-1183x800.png)\n",
    "\n",
    "\n",
    "### b. Local Environment\n",
    "\n",
    "You can download Python from [Python.org](https://python.org/ \"http://python.org/\").\n",
    "\n",
    "If you’d like to install JupyterLab, please visit [<img src=\"https://jupyterlab.readthedocs.io/en/stable/_static/logo-icon.png\" alt=\"drawing\" width=\"15\"/>)Installation — JupyterLab 4.1.4 documentation](https://jupyterlab.readthedocs.io/en/stable/getting_started/installation.html). We recommend Jupyter Notebook, or JupyterLab on your local machine, instead of a vanilla py file, to be able to see the graphs and maps presented below.\n",
    "\n",
    "2\\. Python packages and Libraries\n",
    "---------------------------------\n",
    "\n",
    "Python packages are libraries of Python functions developed by the Python community. We can import these packages to our Python scripts to add functionality. For this tutorial, we need to use the following Python packages:\n",
    "\n",
    "*   OWSLib (version 0.29.3)\n",
    "    \n",
    "*   Fiona (version 1.9.5)\n",
    "    \n",
    "*   GeoPandas (version 0.12.2)\n",
    "    \n",
    "*   folium (version 0.13.0)\n",
    "    \n",
    "*   requests (version 2.31.0)\n",
    "    \n",
    "\n",
    "> The versions specified here are recommendations. This may be different depending on your python environment. Please feel free to adjust versions to fit your python environment.\n",
    "\n",
    "[**OWSLib**](https://geopython.github.io/OWSLib/usage.html \"https://geopython.github.io/OWSLib/usage.html\") is a Python package that we use to connect to the API.\n",
    "\n",
    "[**Fiona**](https://pypi.org/project/Fiona/ \"https://pypi.org/project/Fiona/\") and [**GeoPandas**](https://geopandas.org/en/stable/ \"https://geopandas.org/en/stable/\") are libraries to make working with geospatial data.\n",
    "\n",
    "[**Folium**](https://python-visualization.github.io/folium/ \"https://python-visualization.github.io/folium/\") makes it easy to visualise data.\n",
    "\n",
    "[**Requests**](https://requests.readthedocs.io/en/latest/ \"https://requests.readthedocs.io/en/latest/\") is a simple, yet elegant, HTTP library. It is a HTTP library used for making requests to web servers, abstracting the complexities of making requests behind a simple API.\n",
    "\n",
    "3\\. Use Python coding environments\n",
    "----------------------------------\n",
    "\n",
    "Now is the time to introduce how to use the Python coding environment. We use Google Colab as an example. Open a new notebook in Colab.\n",
    "\n",
    "You can install all of the related Python packages in Section 2 using the following command. The `pip install <package>` command always looks for the latest version of the package and installs it. If we’d like to install a specific version, we can use `==`, then follow the version number, for example, `owslib==0.29.3`. (The library versions specified below are tested for Google Colab environment. For local environment, these versions may vary. Simply try `pip install owslib fiona geopandas requests folium`)"
   ]
  },
  {
   "cell_type": "code",
   "execution_count": null,
   "id": "nominated-exemption",
   "metadata": {},
   "outputs": [],
   "source": [
    "pip install owslib==0.29.3 fiona==1.9.5 geopandas==0.14.1 requests==2.31.0 folium==0.15.1"
   ]
  },
  {
   "cell_type": "markdown",
   "id": "divided-stereo",
   "metadata": {},
   "source": [
    "**Add a Code cell**\n",
    "\n",
    "Step 1, you can copy and paste the install command above into the Code cell.\n",
    "\n",
    "Step 2, execute the command by clicking the run button.\n",
    "\n",
    "We recommend this short video to learn more about the Jupyter notebook environment  [![](https://www.youtube.com/s/desktop/4feff1e2/img/favicon_32x32.png)Get started with Google Colaboratory (Coding TensorFlow)](https://www.youtube.com/watch?v=inN8seMm7UI)\n",
    "\n",
    "\n",
    "\n",
    "![](https://aurin.org.au/wp-content/uploads/2024/03/Python-Tutorial-–-Image-4.webp)\n",
    "\n",
    "\n",
    "After the installation of Python packages, we can load these packages for coding later. To load these packages, we use command `import`. `WebFeatureService` is the function we use in OWSLib. If you’d like to know the meanings of library, module, function, import, etc. please click [here](https://www.geeksforgeeks.org/libraries-in-python/ \"https://www.geeksforgeeks.org/libraries-in-python/\").\n",
    "\n",
    "Load the packages and additional functions:"
   ]
  },
  {
   "cell_type": "code",
   "execution_count": null,
   "id": "sought-ability",
   "metadata": {},
   "outputs": [],
   "source": [
    "from owslib.wfs import WebFeatureService\n",
    "import geopandas\n",
    "import folium\n",
    "import io"
   ]
  },
  {
   "cell_type": "markdown",
   "id": "partial-italy",
   "metadata": {},
   "source": [
    "**Add another line of code**\n",
    "\n",
    "Click _**+Code**_ button, and then a new code cell is added to the environment. You can then copy and paste the import command above and execute it.\n",
    "\n",
    "![](https://aurin.org.au/wp-content/uploads/2024/03/Python-Tutorial-–-Image-5.webp)\n",
    "\n",
    "\n",
    "\n",
    "**Add a text cell**\n",
    "\n",
    "Click _**+Text**_ button, and then a text cell is added to the environment. In a text cell, you may like to add some textual explanation of the code. You need to use the Markdown format for text editing.\n",
    "\n",
    "Please find out more in this [Markdown Guide](https://colab.research.google.com/notebooks/markdown_guide.ipynb \"https://colab.research.google.com/notebooks/markdown_guide.ipynb\"). The left hand side is the textual input and the right hand side displays the final appearance in the notebook.\n",
    "\n",
    "When you finish editing and move to the next cell, it will automatically jump out of the editing mode, and appear on the right-hand side.\n",
    "\n",
    "![](https://aurin.org.au/wp-content/uploads/2024/03/Python-Tutorial-–-Image-6.webp)\n",
    "\n",
    "\n",
    "4\\. Interact with the AURIN API\n",
    "-------------------------------\n",
    "\n",
    "### a. Setup Connection Parameters\n",
    "\n",
    "To use an API, you make a request to AURIN’s remote web server and retrieve the data you need.\n",
    "\n",
    "To connect to the API you need to let Python know the address for the request and your credentials.\n",
    "\n",
    "Please replace `yourName` and `yourPassword` in the code block below with your API Access username and password. If you don’t have credentials, please generate your credentials via [API Access Dashboard](https://adp-access.aurin.org.au/ \"https://adp-access.aurin.org.au/\").\n",
    "\n",
    "Please note the API access password will expire in 90 days for security reasons. You can always get a new password by visiting the API Access page."
   ]
  },
  {
   "cell_type": "code",
   "execution_count": null,
   "id": "great-plaza",
   "metadata": {},
   "outputs": [],
   "source": [
    "WFS_USERNAME = 'yourName'\n",
    "WFS_PASSWORD= 'yourPassword'\n",
    "WFS_URL='https://adp.aurin.org.au/geoserver/wfs'"
   ]
  },
  {
   "cell_type": "markdown",
   "id": "functioning-hudson",
   "metadata": {},
   "source": [
    "Create a new _api\\_client_, using the below code to connect to the ADP, which is itself a Web Feature Service (WFS)."
   ]
  },
  {
   "cell_type": "code",
   "execution_count": null,
   "id": "ready-embassy",
   "metadata": {},
   "outputs": [],
   "source": [
    "api_client = WebFeatureService(url=WFS_URL,username=WFS_USERNAME, password=WFS_PASSWORD, version='1.1.0')"
   ]
  },
  {
   "cell_type": "markdown",
   "id": "cellular-cache",
   "metadata": {},
   "source": [
    "### b. List Available Datasets\n",
    "\n",
    "We can view the WFS operations."
   ]
  },
  {
   "cell_type": "code",
   "execution_count": null,
   "id": "difficult-convergence",
   "metadata": {},
   "outputs": [],
   "source": [
    "# (Optional) Check what operations are available\n",
    "[operation.name for operation in api_client.operations]"
   ]
  },
  {
   "cell_type": "markdown",
   "id": "thousand-novelty",
   "metadata": {},
   "source": [
    "Output:"
   ]
  },
  {
   "cell_type": "markdown",
   "id": "functioning-token",
   "metadata": {},
   "source": [
    "    ['GetCapabilities',\n",
    "    'DescribeFeatureType',\n",
    "    'GetFeature',\n",
    "    'GetGmlObject', 'LockFeature', \n",
    "    'GetFeatureWithLock',\n",
    "    'Transaction']"
   ]
  },
  {
   "cell_type": "markdown",
   "id": "convinced-james",
   "metadata": {},
   "source": [
    "We can view information about the dataset name and title of the first 10 datasets:"
   ]
  },
  {
   "cell_type": "code",
   "execution_count": null,
   "id": "professional-letters",
   "metadata": {},
   "outputs": [],
   "source": [
    "# (Optional) Check what datasets are availablecontents = list(api_client.contents) contents[:10]"
   ]
  },
  {
   "cell_type": "markdown",
   "id": "opposite-console",
   "metadata": {},
   "source": [
    "Output:"
   ]
  },
  {
   "cell_type": "markdown",
   "id": "illegal-charm",
   "metadata": {},
   "source": [
    "    ['datasource-NSW_Govt_DPE-UoM_AURIN_DB:nsw_srlup_additional_rural_2014',\n",
    "    'datasource-AU_Govt_ABS-UoM_AURIN_DB_GeoLevel:aus_2016_aust',\n",
    "    'datasource-AU_Govt_ABS-UoM_AURIN_DB_GeoLevel:gccsa_2011_aust',\n",
    "    'datasource-AU_Govt_ABS-UoM_AURIN_DB_GeoLevel:gccsa_2016_aust',\n",
    "    'datasource-AU_Govt_ABS-UoM_AURIN_DB_GeoLevel:mb_2016_aust',\n",
    "    'datasource-AU_Govt_ABS-UoM_AURIN_DB_GeoLevel:mb_2011_act',\n",
    "    'datasource-AU_Govt_ABS-UoM_AURIN_DB_GeoLevel:mb_2011_nsw',\n",
    "    'datasource-AU_Govt_ABS-UoM_AURIN_DB_GeoLevel:mb_2011_nt',\n",
    "    'datasource-AU_Govt_ABS-UoM_AURIN_DB_GeoLevel:mb_2011_ot',\n",
    "    'datasource-AU_Govt_ABS-UoM_AURIN_DB_GeoLevel:mb_2011_qld']"
   ]
  },
  {
   "cell_type": "markdown",
   "id": "foster-stress",
   "metadata": {},
   "source": [
    "### c. Download Data\n",
    "\n",
    "You can search the [AURIN Data Catalogue](https://data.aurin.org.au/ \"https://data.aurin.org.au/\") to find datasets you would like to download.\n",
    "\n",
    "For example, if you are interested in a dataset describing the university institutes in Australia, enter “university” and click search. Browse the results and select [AURIN – National Education Facilities – Universities (Point) 2018](https://data.aurin.org.au/dataset/aurin-aurin-national-education-dataset-universities-2018-na \"https://data.aurin.org.au/dataset/aurin-aurin-national-education-dataset-universities-2018-na\") and view its description, including its metadata table.\n",
    "\n",
    "To download that dataset into Python, find and copy its ADP ID Value from the metadata table, in this case, it is `datasource-AURIN-UoM_AURIN_DB:aurin_national_education_dataset_universities_2018`.\n",
    "\n",
    "![](https://aurin.org.au/wp-content/uploads/2024/03/Python-Tutorial-–-Image-7-849x800.webp)\n",
    "\n",
    "\n",
    "\n",
    "Then create the following query, pasting the ADP ID into the _type name_ variable. The `GetFeature()` operation returns a selection of features from the data source. Then we save it to the variable called `response`."
   ]
  },
  {
   "cell_type": "code",
   "execution_count": null,
   "id": "secure-vietnamese",
   "metadata": {},
   "outputs": [],
   "source": [
    "response = api_client.getfeature(typename='datasource-AURIN-UoM_AURIN_DB:aurin_national_education_dataset_universities_2018')"
   ]
  },
  {
   "cell_type": "markdown",
   "id": "plastic-firewall",
   "metadata": {},
   "source": [
    "Next, save the variable `response` to a file named `data_uni.gml`. This file is in [gml](https://en.wikipedia.org/wiki/Geography_Markup_Language \"https://en.wikipedia.org/wiki/Geography_Markup_Language\") format, and ‘gml’ is the [default WFS output format](https://docs.geoserver.org/stable/en/user/services/wfs/outputformats.html \"https://docs.geoserver.org/stable/en/user/services/wfs/outputformats.html\"). If you’d like to download the dataset, please store it in a safe and secure environment."
   ]
  },
  {
   "cell_type": "code",
   "execution_count": null,
   "id": "computational-relief",
   "metadata": {},
   "outputs": [],
   "source": [
    "out = open('data_uni.gml', 'wb')\n",
    "out.write(response.read())\n",
    "out.close()"
   ]
  },
  {
   "cell_type": "markdown",
   "id": "educational-denial",
   "metadata": {},
   "source": [
    "### d.  View Data\n",
    "\n",
    "After downloading the information, we can use the function `geopandas.read_file` to load the data in a DataFrame.\n",
    "\n",
    "Use the `head()` function to see universities on a map as individual point locations:"
   ]
  },
  {
   "cell_type": "code",
   "execution_count": null,
   "id": "requested-washington",
   "metadata": {},
   "outputs": [],
   "source": [
    "data_uni = geopandas.read_file('data_uni.gml')\n",
    "data_uni.head()"
   ]
  },
  {
   "cell_type": "markdown",
   "id": "excess-cleaner",
   "metadata": {},
   "source": [
    "Now you will see information about the universities in tabular format:\n",
    "\n",
    "![](https://aurin.org.au/wp-content/uploads/2024/03/Python-Tutorial-–-Image-8-1400x434.webp)\n",
    "\n",
    "\n",
    "### e. Visualise Data\n",
    "\n",
    "**Static Map**\n",
    "\n",
    "You can now visualise the universities on a map as individual point locations by using the `plot()` command. If you are using Mac, you may need to install `matplotlib` manually to get the visualisation from the `plot()` function. (Here are two references for `matplotlib` installation on Mac: [<img src= \"https://matplotlib.org/stable/_static/favicon.ico\" alt=\"drawing\" width=\"20\"/>Installation — Matplotlib 3.8.3 documentation](https://matplotlib.org/stable/users/installing/index.html) and [<img src=\"https://www.geeksforgeeks.org/wp-content/uploads/gfg_200X200-100x100.png\" alt=\"drawing\" width=\"20\"/> How to Install Matplotlib on MacOS? – GeeksforGeeks](https://www.geeksforgeeks.org/how-to-install-matplotlib-on-macos/). Please remember to `import matplotlib` after installation)."
   ]
  },
  {
   "cell_type": "code",
   "execution_count": null,
   "id": "brave-absolute",
   "metadata": {},
   "outputs": [],
   "source": [
    "data_uni.plot()"
   ]
  },
  {
   "cell_type": "markdown",
   "id": "warming-lebanon",
   "metadata": {},
   "source": [
    "Output:\n",
    "\n",
    "<img src=\"https://aurin.org.au/wp-content/uploads/2024/03/Python-Tutorial-–-Image-9-913x800.webp\" alt=\"drawing\" width=\"400\"/>\n",
    "\n",
    "\n",
    "\n",
    "**Interactive Map**\n",
    "\n",
    "Here we set up an interactive map to view the Australian universities dataset. The function `folium.map` creates an interactive map."
   ]
  },
  {
   "cell_type": "code",
   "execution_count": null,
   "id": "exposed-resistance",
   "metadata": {},
   "outputs": [],
   "source": [
    "### ----- Define the basemap: Center: Australia ---- ###\n",
    "Map_aurin = folium.Map(location=[-23.43046024417681, 133.6034805654919],zoom_start=4,tiles='cartodbpositron')\n",
    "### ----- Select Name and Geometry ---- ###\n",
    "map_data = data_uni[['institution','geometry']]\n",
    "### ----- Create a JSON with the information ------ ###\n",
    "layer = map_data.to_json()\n",
    "### --- Geojson -- ###\n",
    "folium.GeoJson(layer,name='geojson').add_to(Map_aurin)\n",
    "# Show the map again\n",
    "Map_aurin"
   ]
  },
  {
   "cell_type": "markdown",
   "id": "western-toolbox",
   "metadata": {},
   "source": [
    "Output:\n",
    "\n",
    "![](https://aurin.org.au/wp-content/uploads/2024/03/Python-Tutorial-–-Image-10-984x800.webp)\n",
    "\n",
    "\n",
    "\n",
    "You may wish to click on the tag and see which institute it is. Here is the code added the `popup` function with institution’s names.\n"
   ]
  },
  {
   "cell_type": "code",
   "execution_count": null,
   "id": "looking-library",
   "metadata": {},
   "outputs": [],
   "source": [
    "# Make an empty map\n",
    "Map_aurin = folium.Map(location=[-23.43046024417681, 133.6034805654919],zoom_start=4,tiles='cartodbpositron')\n",
    "    \n",
    "# add marker one by one on the map\n",
    "for i in range(0,len(data_uni)):\n",
    "    folium.Marker(\n",
    "        location=[data_uni.iloc[i]['latitude'],data_uni.iloc[i]['longitude']],\n",
    "        popup=data_uni.iloc[i]['institution'],\n",
    "    ).add_to(Map_aurin)\n",
    "    \n",
    "# Show the map again\n",
    "Map_aurin"
   ]
  },
  {
   "cell_type": "markdown",
   "id": "weighted-prison",
   "metadata": {},
   "source": [
    "Output:\n",
    "\n",
    "![](https://aurin.org.au/wp-content/uploads/2024/03/Python-Tutorial-–-Image-11-860x800.webp)\n",
    "\n",
    "\n",
    "\n",
    "### f. Download Data in other Formats\n",
    "\n",
    "The AURIN API supports other data formats, such as GeoJSON, CSV, GML, KML, etc. For a full list of different formats and their syntax for coding, please check [here](https://docs.geoserver.org/stable/en/user/services/wfs/outputformats.html \"https://docs.geoserver.org/stable/en/user/services/wfs/outputformats.html\"). We choose the GeoJSON format for demonstration.\n",
    "\n",
    "GeoJSON format, download data and visualisation. `outputFormat='application/json'` helps to specify GeoJSON format.\n"
   ]
  },
  {
   "cell_type": "code",
   "execution_count": null,
   "id": "seeing-distinction",
   "metadata": {},
   "outputs": [],
   "source": [
    "response = api_client.getfeature(typename='datasource-AURIN-UoM_AURIN_DB:aurin_national_education_dataset_universities_2018',outputFormat='application/json')\n",
    "out = open('data_uni.geojson', 'wb')\n",
    "out.write(response.read())\n",
    "out.close()\n",
    "data_uni = geopandas.read_file('data_uni.geojson')"
   ]
  },
  {
   "cell_type": "markdown",
   "id": "present-dancing",
   "metadata": {},
   "source": [
    "### g. Filter Data by Bounding Box\n",
    "\n",
    "The AURIN API supports spatial queries that permit filtering your data in a particular spatial area. For example, you can filter the data by bounding box (BBOX). By adding the BBOX, instead of downloading entire datasets, which can be very large and irrelevant to your project, you can download data according to your area of interest. Here we show an example to use the Melbourne CBD as the area of interest. The BBOX is a function from [shapely.geometry](https://shapely.readthedocs.io/en/stable/manual.html \"https://shapely.readthedocs.io/en/stable/manual.html\").\n",
    "\n",
    "The BBOX parameter allows you to search for features that are contained (or partially contained) inside a box of user-defined coordinates. The format of the BBOX parameter is `bbox=a1,b1,a2,b2,[crs]` where `a1`, `b1`, `a2`, and `b2` represent the coordinate values, `crs` refers to the [coordinate reference system](https://en.wikipedia.org/wiki/Spatial_reference_system \"https://en.wikipedia.org/wiki/Spatial_reference_system\"). If you’d like to know more about Australian geospatial reference system, please click [here](https://www.icsm.gov.au/datum/gda-frequently-asked-questions \"https://www.icsm.gov.au/datum/gda-frequently-asked-questions\"). The `shapely.geometry.box()` function makes a rectangular polygon from the provided BBOX parameters.\n",
    "\n",
    "We recommend using [BBox finder](http://bboxfinder.com/#-37.823111,144.931258,-37.805108,144.976358 \"http://bboxfinder.com/#-37.823111,144.931258,-37.805108,144.976358\") to create your BBOX using a base map. Click the rectangle icon and draw a rectangle using your mouse to cover the Melbourne CBD area or any other areas you are interested in.\n",
    "\n",
    "![](https://aurin.org.au/wp-content/uploads/2024/03/Python-Tutorial-–-Image-12.webp)\n",
    "\n",
    "\n",
    "\n",
    "Now you can see the selected rectangle is covered in pink. You may check if it is the right area you’d like to collect data from. Copy the BBOX coordinates from the highlighted area, and replace the coordinates after the code `min_x,min_y,max_x,max_y =`.\n",
    "\n",
    "![](https://aurin.org.au/wp-content/uploads/2024/03/Python-Tutorial-–-Image-13-1400x672.webp)\n",
    "\n",
    "\n",
    "\n",
    "You also need to replace `yourName` and `yourPassword` in the code block below with your API Access username and password. If you don’t have API credentials, please generate your credentials via the [AURIN Access Dashboard](https://adp-access.aurin.org.au/ \"https://adp-access.aurin.org.au/\").\n"
   ]
  },
  {
   "cell_type": "code",
   "execution_count": null,
   "id": "authorized-mills",
   "metadata": {},
   "outputs": [],
   "source": [
    "###### ------ Libraries ------- ####\n",
    "from owslib.wfs import WebFeatureService\n",
    "import geopandas as gpd\n",
    "from shapely.geometry import box\n",
    "import io\n",
    "import folium\n",
    "##### ----- Credentials ------ #####\n",
    "WFS_USERNAME = 'yourName'\n",
    "WFS_PASSWORD= 'yourPassword'\n",
    "VERSION = '1.1.0'\n",
    "WFS_URL='https://adp.aurin.org.au/geoserver/wfs'\n",
    "api_client = WebFeatureService(url=WFS_URL,\n",
    "    username=WFS_USERNAME,\n",
    "    password=WFS_PASSWORD,\n",
    "    version=VERSION)\n",
    "    \n",
    "#### ------ Select the data set ----- #####\n",
    "ADP_ID = 'datasource-AURIN-UoM_AURIN_DB:aurin_national_education_dataset_universities_2018'\n",
    "    \n",
    "### ------ Copy vector from http://bboxfinder.com/ ---- #####\n",
    "min_x,min_y,max_x,max_y = 144.931258,-37.823111,144.976358,-37.805108 \n",
    "    \n",
    "# Create the polygon using Shapely\n",
    "box_shape = box(minx=min_x, miny=min_y, maxx=max_x, maxy=max_y)\n",
    "Box_shape = gpd.GeoDataFrame({'box': 'Box','geometry': [box_shape]})\n",
    "#### ------ Request data for Melbourne CBD ----- ####\n",
    "response = api_client.getfeature(typename = ADP_ID,bbox=(min_x, min_y, max_x, max_y), srsname='urn:ogc:def:crs:EPSG::4326')\n",
    "    \n",
    "#### ---- Storage data ----- ####\n",
    "with open('data_uni.gml', 'wb') as f:\n",
    "    f.write(response.read())\n",
    "data_uni = gpd.read_file('data_uni.gml')\n",
    "    \n",
    "### ----- Define the basemap: Center: Australia ---- ###\n",
    "Map_aurin = folium.Map(location=[box_shape.centroid.coords[0][1],box_shape.centroid.coords[0][0]],zoom_start=15,tiles='cartodbpositron')### ----- Select Name and Geometry ---- ###\n",
    "### ----- Create a JSON with the information ------ ###\n",
    "map_data = data_uni[['institution','geometry']]\n",
    "### ---- Features box ----- ###\n",
    "layer = map_data.to_json()\n",
    "### ---- Shape box ---- ###\n",
    "box = Box_shape.to_json()\n",
    "### --- Geojson -- ###\n",
    "folium.GeoJson(layer,name='features').add_to(Map_aurin)\n",
    "folium.GeoJson(box,name='box',style_function = lambda x: {'fillColor': 'yellow'}).add_to(Map_aurin)\n",
    "    \n",
    "# add marker one by one on the mapfor i in range(0,len(data_uni)):   folium.Marker(     location=[data_uni.iloc[i]['latitude'],data_uni.iloc[i]['longitude']],     popup=data_uni.iloc[i]['institution'],   ).add_to(Map_aurin)### --- Show the map --- ###\n",
    "Map_aurin"
   ]
  },
  {
   "cell_type": "markdown",
   "id": "supposed-notion",
   "metadata": {},
   "source": [
    "Output:\n",
    "\n",
    "![](https://aurin.org.au/wp-content/uploads/2024/03/Python-Tutorial-–-Image-14.webp)"
   ]
  },
  {
   "cell_type": "code",
   "execution_count": null,
   "id": "polished-lounge",
   "metadata": {},
   "outputs": [],
   "source": []
  }
 ],
 "metadata": {
  "kernelspec": {
   "display_name": "Python 3",
   "language": "python",
   "name": "python3"
  },
  "language_info": {
   "codemirror_mode": {
    "name": "ipython",
    "version": 3
   },
   "file_extension": ".py",
   "mimetype": "text/x-python",
   "name": "python",
   "nbconvert_exporter": "python",
   "pygments_lexer": "ipython3",
   "version": "3.8.8"
  }
 },
 "nbformat": 4,
 "nbformat_minor": 5
}

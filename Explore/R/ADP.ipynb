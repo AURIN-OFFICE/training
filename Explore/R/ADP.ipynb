{
 "cells": [
  {
   "cell_type": "markdown",
   "id": "e4940765-6130-4f9b-86c4-c3d45084eb9e",
   "metadata": {},
   "source": [
    "# Accessing AURIN Data Provider via RStudio\n",
    "\n",
    "The goal of this tutorial is to introduce how to use RStudio to connect to AURIN Data Provider and download data. This is designed with no prerequisite of R experiences.\n",
    "\n",
    "The ADP is an interface that allows you to use programming scripts to interact with and access the AURIN Data Catalogue. You can send a request to the AURIN Data Provider using R scripts and get a response to download specific datasets.\n",
    "\n",
    "The ADP is based on ipts to interact with and access the AURIN Data Catalogue. You can send a request to the AURIN Data Provider using R scripts and get a response to download specific datasets. The ADP is based on [Open Geospatial Consortium](https://en.wikipedia.org/wiki/Open_Geospatial_Consortium) Web Feature Service (WFS) Interface Standards. With ADP credentials, AURIN’s data repository is at your fingertips.\n",
    "\n",
    "**Before commencing this step, please ensure you have generated your unique ADP Credentials (username and password) using the [ADP Access Dashboard](https://adp-access.aurin.org.au/login).**"
   ]
  },
  {
   "cell_type": "markdown",
   "id": "32b54f3b-5ec3-4aa4-b65e-9593d9fe6f0f",
   "metadata": {},
   "source": [
    "## Tutorial goals:\n",
    "\n",
    "In this tutorial, our goal is to use RStudio to connect to the ADP and download a dataset. You will learn how to:\n",
    "\n",
    "1. Choose between different R environments\n",
    "2. Install related R packages\n",
    "3. Use R coding environments\n",
    "4. Interact with the ADP"
   ]
  },
  {
   "cell_type": "markdown",
   "id": "b669432c-9685-4ab8-a719-aa4352804712",
   "metadata": {},
   "source": [
    "## 1. Choose between Different R Environments\n",
    "[R](https://www.r-project.org) is a free and open-source statistical software program and programming language. It is a very powerful tool for data analysts from all disciplines, from economics to ecology and geography. The [geographic information system](https://en.wikipedia.org/wiki/Geographic_information_system) (GIS) capabilities of R have developed significantly over the last decade.\n",
    "\n",
    "If you are getting started with R, we suggest you use a cloud environment, such as SWAN in the CloudStor, as it has R and its prerequisites already installed. If you wish to use your personal computer, we recommend using R version 4.2.0 or later on your computer. We hope the image below may help you understand the benefits and limitations of each option.\n",
    "\n",
    "### <img src=\"https://user-images.githubusercontent.com/106126121/177250393-a6a97131-f098-42a4-8eb8-44cf088166fb.png\" width=\"600\"> \n",
    "\n",
    "[Click here to learn how to set up the environment](https://aurin.aurin.org.au/resources/training/explore-r/) \n"
   ]
  },
  {
   "cell_type": "markdown",
   "id": "44b4ab6d-1970-44a6-9296-3df7d5f68aad",
   "metadata": {},
   "source": [
    "\n",
    "## 2. Packages and Libraries\n",
    "\n",
    "R packages are libraries of functions developed by the R community.\n",
    "\n",
    "The packages that we are going to use in this tutorial include:\n",
    "\n",
    "[sf](https://cran.r-project.org/web/packages/sf/index.html) - Provides support for simple features, a standardized way to use geospatial data.\n",
    "\n",
    "[httr](https://cran.r-project.org/web/packages/httr/vignettes/quickstart.html) - This is a web service package that can be used to create a request to AURIN.\n",
    "\n",
    "[tidyverse](https://www.tidyverse.org) - A huge collection of R packages designed for data science.\n",
    "\n",
    "[ows4R](https://cran.r-project.org/web/packages/ows4R/index.html) - Provides an Interface to Web-Services defined as standards by the Open Geospatial Consortium (OGC).\n",
    "\n",
    "[mapview]()- Enables functions to quickly and conveniently create interactive visualisations of spatial data.\n",
    "\n"
   ]
  },
  {
   "cell_type": "markdown",
   "id": "0591f445-957f-49d9-b7e0-9170f82cd85d",
   "metadata": {},
   "source": [
    "## 3. Use R coding environments\n",
    "In this repository you find two versions of the scripts: \n",
    "- Rstudio: [ADP.R](https://github.com/AURIN-OFFICE/training/blob/main/Explore/R/ADP.R)\n",
    "- Jupyter Lab: [ADP.ipynb](https://github.com/AURIN-OFFICE/training/blob/main/Explore/R/ADP.ipynb)\n"
   ]
  },
  {
   "cell_type": "markdown",
   "id": "fef21339-5628-49f5-a677-61fbe12b5f22",
   "metadata": {},
   "source": [
    "You can choose your graphical user interface (GUI) and Install packages. You can copy then paste the following code into the RStudio console/Jupyter Notebook.   \n"
   ]
  },
  {
   "cell_type": "code",
   "execution_count": null,
   "id": "9f454fd9-bf25-4292-8005-16aca9f0bf83",
   "metadata": {
    "vscode": {
     "languageId": "r"
    }
   },
   "outputs": [],
   "source": [
    "install.packages(c(\"sf\", \"httr\", \"tidyverse\", \"ows4R\", \"mapview\"))\n"
   ]
  },
  {
   "cell_type": "markdown",
   "id": "5d0a7f44-9c38-49ae-a705-127f3a00dd18",
   "metadata": {},
   "source": [
    "After installation, we can use library() to load these packages. Again, you can copy the code below, and paste it into the Console."
   ]
  },
  {
   "cell_type": "code",
   "execution_count": null,
   "id": "ca3d070f-c0cc-42a0-b341-d2548fd88820",
   "metadata": {
    "vscode": {
     "languageId": "r"
    }
   },
   "outputs": [],
   "source": [
    "library(sf)\n",
    "library(httr)\n",
    "library(tidyverse)\n",
    "library(ows4R)\n",
    "library(mapview)\n",
    "library(utils)"
   ]
  },
  {
   "cell_type": "markdown",
   "id": "3308c11a-77c8-478b-9aae-d2b07870ffee",
   "metadata": {},
   "source": [
    "## 4. Interact with the ADP\n",
    "\n",
    "### a. Setup connection parameters\n",
    "To connect to the ADP you need to let RStudio know the address of the ADP and your access credentials.\n",
    "\n",
    "Please replace yourName and yourPassword below with your own ADP username and password and execute the code to define the connection parameters. If you don’t have ADP credentials, please generate your own unique credentials in the [ADP Access Dashboard](https://adp-access.aurin.org.au)."
   ]
  },
  {
   "cell_type": "code",
   "execution_count": 8,
   "id": "8efd9ad6-9f26-4fbc-8a29-f9e023a61c1a",
   "metadata": {
    "vscode": {
     "languageId": "r"
    }
   },
   "outputs": [],
   "source": [
    "#### ------ Setup variables ------- #####\n",
    "wfs_url <- \"https://adp.aurin.org.au/geoserver/wfs\"\n",
    "user_name <- \"yourName\"\n",
    "password <- \"yourPassword\"\n",
    "#### ------ Define url ----- ####\n",
    "url <- parse_url(wfs_url)\n",
    "url$hostname <- paste(user_name,\":\",password,\"@\",url$hostname, sep=\"\")"
   ]
  },
  {
   "cell_type": "markdown",
   "id": "4c7894f6-b927-4fa0-8b3b-b95fef0ae1fc",
   "metadata": {},
   "source": [
    "Create a new adp_client, using the below code to connect to the ADP, which is itself a Web Feature Service (WFS)."
   ]
  },
  {
   "cell_type": "code",
   "execution_count": 9,
   "id": "041de0d8-a2cf-498d-ac2f-d9ce786b9e4c",
   "metadata": {
    "vscode": {
     "languageId": "r"
    }
   },
   "outputs": [],
   "source": [
    "adp_client <- WFSClient$new(url = wfs_url, user = user_name, pwd = password, serviceVersion = '2.0.0')"
   ]
  },
  {
   "cell_type": "markdown",
   "id": "00e97f88-90cc-4217-b6f9-49577cd692e4",
   "metadata": {},
   "source": [
    "### b. List available datasets"
   ]
  },
  {
   "cell_type": "markdown",
   "id": "552465b6-6b9d-47ff-80bd-3f48ac3710bf",
   "metadata": {},
   "source": [
    "We can view information about dataset name and title of the first 10 datasets:"
   ]
  },
  {
   "cell_type": "code",
   "execution_count": null,
   "id": "08a14af8-5d46-4d81-93bf-6165ee4f6e19",
   "metadata": {
    "vscode": {
     "languageId": "r"
    }
   },
   "outputs": [],
   "source": [
    "#Get all available layers\n",
    "head(adp_client$getFeatureTypes(pretty = TRUE),10)"
   ]
  },
  {
   "cell_type": "markdown",
   "id": "f99730c6-bdc3-4ca4-90f4-4c23e2fb74d7",
   "metadata": {},
   "source": [
    "### c. Download data"
   ]
  },
  {
   "cell_type": "markdown",
   "id": "d434f2f4-f7c6-461f-8a0e-630674946c8b",
   "metadata": {},
   "source": [
    "You can search the [AURIN Data Catalogue](https://data.aurin.org.au) to find datasets you would like to download.\n",
    "\n",
    "For example, if you are interested in a dataset describing the locations of fire stations in Victoria, enter “fire station” and click search. Browse the results and select \n",
    "[VIC DELWP – Vicmap Features of Interest – Country Fire Authority (CFA) Fire Stations (Points)](https://data.aurin.org.au/dataset/vic-govt-delwp-datavic-vmfeat-cfa-fire-station-na) and view its description, including its metadata table.\n",
    "\n",
    "To download that dataset into R, find and copy its ADP ID in the metadata table, in this case it is `datasource-VIC_Govt_DELWP-VIC_Govt_DELWP:datavic_VMFEAT_CFA_FIRE_STATION`. Then create the following query, pasting the ADP ID into the typeName variable within RStudio."
   ]
  },
  {
   "cell_type": "code",
   "execution_count": 11,
   "id": "cb4c284d-47b0-4842-9f74-85cf9f1df0db",
   "metadata": {
    "vscode": {
     "languageId": "r"
    }
   },
   "outputs": [],
   "source": [
    "url$query <- list(service = \"wfs\",\n",
    "                    #version = \"2.0.0\", # optional\n",
    "                    request = \"GetFeature\",\n",
    "                    typeName = \"datasource-VIC_Govt_DELWP-VIC_Govt_DELWP:datavic_VMFEAT_CFA_FIRE_STATION\",\n",
    "                    srsName = \"EPSG:4326\")"
   ]
  },
  {
   "cell_type": "markdown",
   "id": "840581ff-d325-4e19-b3c8-768a936d10d0",
   "metadata": {},
   "source": [
    "Use the following functions to build the query and download the data from the ADP and save it. In this case we are downloading the data in GML format and saving it with the file name data_fire.gml. You can see a list of other supported ADP output formats here."
   ]
  },
  {
   "cell_type": "code",
   "execution_count": 14,
   "id": "36312cd4-b011-4e2b-b9c4-c1d49b4933d9",
   "metadata": {
    "vscode": {
     "languageId": "r"
    }
   },
   "outputs": [
    {
     "name": "stderr",
     "output_type": "stream",
     "text": [
      "Warning message in CPL_read_ogr(dsn, layer, query, as.character(options), quiet, :\n",
      "“GDAL Error 1: HTTP error code : 400”\n"
     ]
    }
   ],
   "source": [
    "request <- build_url(url)\n",
    "### ---- Download the data ---- ###\n",
    "download.file(request, destfile = \"./data_fire.gml\", mode='wb')\n",
    "### ---- Read the data ---- #### \n",
    "data <- read_sf(\"data_fire.gml\")"
   ]
  },
  {
   "cell_type": "markdown",
   "id": "2dfc361d-d679-4cae-8652-106a5e36f7f7",
   "metadata": {},
   "source": [
    "###  d.  View data\n"
   ]
  },
  {
   "cell_type": "markdown",
   "id": "0f9b9c94-ba9e-417c-aebf-40a0879ebc8f",
   "metadata": {},
   "source": [
    "Use the `head()` function again to view some of the dataset’s rows:"
   ]
  },
  {
   "cell_type": "markdown",
   "id": "8311dd38-e547-4d83-88a8-bcff7dd9f30a",
   "metadata": {},
   "source": [
    "Now you will see information about the fire stations in tabular format:"
   ]
  },
  {
   "cell_type": "code",
   "execution_count": 20,
   "id": "21f659f9-35d0-4cdd-ac1b-e367acec7aba",
   "metadata": {
    "vscode": {
     "languageId": "r"
    }
   },
   "outputs": [
    {
     "data": {
      "application/geo+json": {
       "features": [
        {
         "geometry": {
          "coordinates": [
           142.2315,
           -37.5882
          ],
          "type": "Point"
         },
         "properties": {
          "AUTH_ORG_CODE": 106,
          "AUTH_ORG_ID": 917,
          "AUTH_ORG_VERIFIED": "2022-03-22T00:00:00Z",
          "CREATE_DATE_PFI": "2010-04-01T10:26:44Z",
          "CREATE_DATE_UFI": "2022-03-25T11:28:46Z",
          "FEATURE_ID": 655590,
          "FEATURE_SUBTYPE": "fire station",
          "FEATURE_TYPE": "emergency facility",
          "NAME": "KARABEAL FIRE STATION",
          "NAME_LABEL": "Karabeal Fire Station",
          "OBJECTID": 1997676,
          "PARENT_FEATURE_ID": "NA",
          "PARENT_NAME": null,
          "PFI": 655590,
          "STATE": "VIC",
          "VICNAMES_ID": 13118,
          "VICNAMES_STATUS_CODE": 10,
          "VMADD_PFI": 425361444,
          "gml_id": "VMFEAT_CFA_FIRE_STATION.62926122"
         },
         "type": "Feature"
        },
        {
         "geometry": {
          "coordinates": [
           141.4716,
           -36.8264
          ],
          "type": "Point"
         },
         "properties": {
          "AUTH_ORG_CODE": 106,
          "AUTH_ORG_ID": 620,
          "AUTH_ORG_VERIFIED": "2022-03-22T00:00:00Z",
          "CREATE_DATE_PFI": "2010-04-01T10:26:44Z",
          "CREATE_DATE_UFI": "2022-03-25T11:28:46Z",
          "FEATURE_ID": 655591,
          "FEATURE_SUBTYPE": "fire station",
          "FEATURE_TYPE": "emergency facility",
          "NAME": "KARNAK FIRE STATION",
          "NAME_LABEL": "Karnak Fire Station",
          "OBJECTID": 1997677,
          "PARENT_FEATURE_ID": 637910,
          "PARENT_NAME": null,
          "PFI": 655591,
          "STATE": "VIC",
          "VICNAMES_ID": -1909887,
          "VICNAMES_STATUS_CODE": 11,
          "VMADD_PFI": 54327520,
          "gml_id": "VMFEAT_CFA_FIRE_STATION.62926123"
         },
         "type": "Feature"
        },
        {
         "geometry": {
          "coordinates": [
           145.4981,
           -36.5375
          ],
          "type": "Point"
         },
         "properties": {
          "AUTH_ORG_CODE": 106,
          "AUTH_ORG_ID": 136,
          "AUTH_ORG_VERIFIED": "2022-03-22T00:00:00Z",
          "CREATE_DATE_PFI": "2010-04-01T10:26:44Z",
          "CREATE_DATE_UFI": "2022-03-25T11:28:46Z",
          "FEATURE_ID": 655592,
          "FEATURE_SUBTYPE": "fire station",
          "FEATURE_TYPE": "emergency facility",
          "NAME": "KARRAMOMUS FIRE STATION",
          "NAME_LABEL": "Karramomus Fire Station",
          "OBJECTID": 1997678,
          "PARENT_FEATURE_ID": "NA",
          "PARENT_NAME": null,
          "PFI": 655592,
          "STATE": "VIC",
          "VICNAMES_ID": 13160,
          "VICNAMES_STATUS_CODE": 10,
          "VMADD_PFI": 425481983,
          "gml_id": "VMFEAT_CFA_FIRE_STATION.62926124"
         },
         "type": "Feature"
        },
        {
         "geometry": {
          "coordinates": [
           145.6887,
           -36.0788
          ],
          "type": "Point"
         },
         "properties": {
          "AUTH_ORG_CODE": 106,
          "AUTH_ORG_ID": 137,
          "AUTH_ORG_VERIFIED": "2022-03-22T00:00:00Z",
          "CREATE_DATE_PFI": "2010-04-01T10:26:44Z",
          "CREATE_DATE_UFI": "2022-03-25T11:28:46Z",
          "FEATURE_ID": 655593,
          "FEATURE_SUBTYPE": "fire station",
          "FEATURE_TYPE": "emergency facility",
          "NAME": "KATAMATITE FIRE STATION",
          "NAME_LABEL": "Katamatite Fire Station",
          "OBJECTID": 1997679,
          "PARENT_FEATURE_ID": "NA",
          "PARENT_NAME": null,
          "PFI": 655593,
          "STATE": "VIC",
          "VICNAMES_ID": 13174,
          "VICNAMES_STATUS_CODE": 10,
          "VMADD_PFI": 54237347,
          "gml_id": "VMFEAT_CFA_FIRE_STATION.62926125"
         },
         "type": "Feature"
        },
        {
         "geometry": {
          "coordinates": [
           145.5592,
           -36.2256
          ],
          "type": "Point"
         },
         "properties": {
          "AUTH_ORG_CODE": 106,
          "AUTH_ORG_ID": 138,
          "AUTH_ORG_VERIFIED": "2022-03-22T00:00:00Z",
          "CREATE_DATE_PFI": "2010-04-01T10:26:44Z",
          "CREATE_DATE_UFI": "2022-03-25T11:28:46Z",
          "FEATURE_ID": 655594,
          "FEATURE_SUBTYPE": "fire station",
          "FEATURE_TYPE": "emergency facility",
          "NAME": "KATANDRA FIRE STATION",
          "NAME_LABEL": "Katandra Fire Station",
          "OBJECTID": 1997680,
          "PARENT_FEATURE_ID": "NA",
          "PARENT_NAME": null,
          "PFI": 655594,
          "STATE": "VIC",
          "VICNAMES_ID": 13181,
          "VICNAMES_STATUS_CODE": 10,
          "VMADD_PFI": 54113246,
          "gml_id": "VMFEAT_CFA_FIRE_STATION.62926126"
         },
         "type": "Feature"
        },
        {
         "geometry": {
          "coordinates": [
           145.4573,
           -35.9993
          ],
          "type": "Point"
         },
         "properties": {
          "AUTH_ORG_CODE": 106,
          "AUTH_ORG_ID": 139,
          "AUTH_ORG_VERIFIED": "2022-03-22T00:00:00Z",
          "CREATE_DATE_PFI": "2010-04-01T10:26:44Z",
          "CREATE_DATE_UFI": "2022-03-25T11:28:46Z",
          "FEATURE_ID": 655595,
          "FEATURE_SUBTYPE": "fire station",
          "FEATURE_TYPE": "emergency facility",
          "NAME": "KATUNGA FIRE STATION",
          "NAME_LABEL": "Katunga Fire Station",
          "OBJECTID": 1997681,
          "PARENT_FEATURE_ID": "NA",
          "PARENT_NAME": null,
          "PFI": 655595,
          "STATE": "VIC",
          "VICNAMES_ID": 13202,
          "VICNAMES_STATUS_CODE": 10,
          "VMADD_PFI": 423884498,
          "gml_id": "VMFEAT_CFA_FIRE_STATION.62926127"
         },
         "type": "Feature"
        }
       ],
       "type": "FeatureCollection"
      },
      "text/html": [
       "<table class=\"dataframe\">\n",
       "<caption>A sf: 6 × 20</caption>\n",
       "<thead>\n",
       "\t<tr><th scope=col>gml_id</th><th scope=col>PFI</th><th scope=col>FEATURE_ID</th><th scope=col>FEATURE_TYPE</th><th scope=col>FEATURE_SUBTYPE</th><th scope=col>NAME</th><th scope=col>NAME_LABEL</th><th scope=col>AUTH_ORG_CODE</th><th scope=col>AUTH_ORG_ID</th><th scope=col>AUTH_ORG_VERIFIED</th><th scope=col>VMADD_PFI</th><th scope=col>VICNAMES_ID</th><th scope=col>VICNAMES_STATUS_CODE</th><th scope=col>STATE</th><th scope=col>CREATE_DATE_PFI</th><th scope=col>CREATE_DATE_UFI</th><th scope=col>OBJECTID</th><th scope=col>PARENT_FEATURE_ID</th><th scope=col>PARENT_NAME</th><th scope=col>SHAPE</th></tr>\n",
       "\t<tr><th scope=col>&lt;chr&gt;</th><th scope=col>&lt;int&gt;</th><th scope=col>&lt;int&gt;</th><th scope=col>&lt;chr&gt;</th><th scope=col>&lt;chr&gt;</th><th scope=col>&lt;chr&gt;</th><th scope=col>&lt;chr&gt;</th><th scope=col>&lt;int&gt;</th><th scope=col>&lt;int&gt;</th><th scope=col>&lt;chr&gt;</th><th scope=col>&lt;int&gt;</th><th scope=col>&lt;int&gt;</th><th scope=col>&lt;int&gt;</th><th scope=col>&lt;chr&gt;</th><th scope=col>&lt;chr&gt;</th><th scope=col>&lt;chr&gt;</th><th scope=col>&lt;int&gt;</th><th scope=col>&lt;int&gt;</th><th scope=col>&lt;chr&gt;</th><th scope=col>&lt;POINT [°]&gt;</th></tr>\n",
       "</thead>\n",
       "<tbody>\n",
       "\t<tr><td>VMFEAT_CFA_FIRE_STATION.62926122</td><td>655590</td><td>655590</td><td>emergency facility</td><td>fire station</td><td>KARABEAL FIRE STATION  </td><td>Karabeal Fire Station  </td><td>106</td><td>917</td><td>2022-03-22T00:00:00Z</td><td>425361444</td><td>   13118</td><td>10</td><td>VIC</td><td>2010-04-01T10:26:44Z</td><td>2022-03-25T11:28:46Z</td><td>1997676</td><td>    NA</td><td>NA</td><td>POINT (142.2315 -37.5882)</td></tr>\n",
       "\t<tr><td>VMFEAT_CFA_FIRE_STATION.62926123</td><td>655591</td><td>655591</td><td>emergency facility</td><td>fire station</td><td>KARNAK FIRE STATION    </td><td>Karnak Fire Station    </td><td>106</td><td>620</td><td>2022-03-22T00:00:00Z</td><td> 54327520</td><td>-1909887</td><td>11</td><td>VIC</td><td>2010-04-01T10:26:44Z</td><td>2022-03-25T11:28:46Z</td><td>1997677</td><td>637910</td><td>NA</td><td>POINT (141.4716 -36.8264)</td></tr>\n",
       "\t<tr><td>VMFEAT_CFA_FIRE_STATION.62926124</td><td>655592</td><td>655592</td><td>emergency facility</td><td>fire station</td><td>KARRAMOMUS FIRE STATION</td><td>Karramomus Fire Station</td><td>106</td><td>136</td><td>2022-03-22T00:00:00Z</td><td>425481983</td><td>   13160</td><td>10</td><td>VIC</td><td>2010-04-01T10:26:44Z</td><td>2022-03-25T11:28:46Z</td><td>1997678</td><td>    NA</td><td>NA</td><td>POINT (145.4981 -36.5375)</td></tr>\n",
       "\t<tr><td>VMFEAT_CFA_FIRE_STATION.62926125</td><td>655593</td><td>655593</td><td>emergency facility</td><td>fire station</td><td>KATAMATITE FIRE STATION</td><td>Katamatite Fire Station</td><td>106</td><td>137</td><td>2022-03-22T00:00:00Z</td><td> 54237347</td><td>   13174</td><td>10</td><td>VIC</td><td>2010-04-01T10:26:44Z</td><td>2022-03-25T11:28:46Z</td><td>1997679</td><td>    NA</td><td>NA</td><td>POINT (145.6887 -36.0788)</td></tr>\n",
       "\t<tr><td>VMFEAT_CFA_FIRE_STATION.62926126</td><td>655594</td><td>655594</td><td>emergency facility</td><td>fire station</td><td>KATANDRA FIRE STATION  </td><td>Katandra Fire Station  </td><td>106</td><td>138</td><td>2022-03-22T00:00:00Z</td><td> 54113246</td><td>   13181</td><td>10</td><td>VIC</td><td>2010-04-01T10:26:44Z</td><td>2022-03-25T11:28:46Z</td><td>1997680</td><td>    NA</td><td>NA</td><td>POINT (145.5592 -36.2256)</td></tr>\n",
       "\t<tr><td>VMFEAT_CFA_FIRE_STATION.62926127</td><td>655595</td><td>655595</td><td>emergency facility</td><td>fire station</td><td>KATUNGA FIRE STATION   </td><td>Katunga Fire Station   </td><td>106</td><td>139</td><td>2022-03-22T00:00:00Z</td><td>423884498</td><td>   13202</td><td>10</td><td>VIC</td><td>2010-04-01T10:26:44Z</td><td>2022-03-25T11:28:46Z</td><td>1997681</td><td>    NA</td><td>NA</td><td>POINT (145.4573 -35.9993)</td></tr>\n",
       "</tbody>\n",
       "</table>\n"
      ],
      "text/latex": [
       "A sf: 6 × 20\n",
       "\\begin{tabular}{llllllllllllllllllll}\n",
       " gml\\_id & PFI & FEATURE\\_ID & FEATURE\\_TYPE & FEATURE\\_SUBTYPE & NAME & NAME\\_LABEL & AUTH\\_ORG\\_CODE & AUTH\\_ORG\\_ID & AUTH\\_ORG\\_VERIFIED & VMADD\\_PFI & VICNAMES\\_ID & VICNAMES\\_STATUS\\_CODE & STATE & CREATE\\_DATE\\_PFI & CREATE\\_DATE\\_UFI & OBJECTID & PARENT\\_FEATURE\\_ID & PARENT\\_NAME & SHAPE\\\\\n",
       " <chr> & <int> & <int> & <chr> & <chr> & <chr> & <chr> & <int> & <int> & <chr> & <int> & <int> & <int> & <chr> & <chr> & <chr> & <int> & <int> & <chr> & <POINT {[}°{]}>\\\\\n",
       "\\hline\n",
       "\t VMFEAT\\_CFA\\_FIRE\\_STATION.62926122 & 655590 & 655590 & emergency facility & fire station & KARABEAL FIRE STATION   & Karabeal Fire Station   & 106 & 917 & 2022-03-22T00:00:00Z & 425361444 &    13118 & 10 & VIC & 2010-04-01T10:26:44Z & 2022-03-25T11:28:46Z & 1997676 &     NA & NA & POINT (142.2315 -37.5882)\\\\\n",
       "\t VMFEAT\\_CFA\\_FIRE\\_STATION.62926123 & 655591 & 655591 & emergency facility & fire station & KARNAK FIRE STATION     & Karnak Fire Station     & 106 & 620 & 2022-03-22T00:00:00Z &  54327520 & -1909887 & 11 & VIC & 2010-04-01T10:26:44Z & 2022-03-25T11:28:46Z & 1997677 & 637910 & NA & POINT (141.4716 -36.8264)\\\\\n",
       "\t VMFEAT\\_CFA\\_FIRE\\_STATION.62926124 & 655592 & 655592 & emergency facility & fire station & KARRAMOMUS FIRE STATION & Karramomus Fire Station & 106 & 136 & 2022-03-22T00:00:00Z & 425481983 &    13160 & 10 & VIC & 2010-04-01T10:26:44Z & 2022-03-25T11:28:46Z & 1997678 &     NA & NA & POINT (145.4981 -36.5375)\\\\\n",
       "\t VMFEAT\\_CFA\\_FIRE\\_STATION.62926125 & 655593 & 655593 & emergency facility & fire station & KATAMATITE FIRE STATION & Katamatite Fire Station & 106 & 137 & 2022-03-22T00:00:00Z &  54237347 &    13174 & 10 & VIC & 2010-04-01T10:26:44Z & 2022-03-25T11:28:46Z & 1997679 &     NA & NA & POINT (145.6887 -36.0788)\\\\\n",
       "\t VMFEAT\\_CFA\\_FIRE\\_STATION.62926126 & 655594 & 655594 & emergency facility & fire station & KATANDRA FIRE STATION   & Katandra Fire Station   & 106 & 138 & 2022-03-22T00:00:00Z &  54113246 &    13181 & 10 & VIC & 2010-04-01T10:26:44Z & 2022-03-25T11:28:46Z & 1997680 &     NA & NA & POINT (145.5592 -36.2256)\\\\\n",
       "\t VMFEAT\\_CFA\\_FIRE\\_STATION.62926127 & 655595 & 655595 & emergency facility & fire station & KATUNGA FIRE STATION    & Katunga Fire Station    & 106 & 139 & 2022-03-22T00:00:00Z & 423884498 &    13202 & 10 & VIC & 2010-04-01T10:26:44Z & 2022-03-25T11:28:46Z & 1997681 &     NA & NA & POINT (145.4573 -35.9993)\\\\\n",
       "\\end{tabular}\n"
      ],
      "text/markdown": [
       "\n",
       "A sf: 6 × 20\n",
       "\n",
       "| gml_id &lt;chr&gt; | PFI &lt;int&gt; | FEATURE_ID &lt;int&gt; | FEATURE_TYPE &lt;chr&gt; | FEATURE_SUBTYPE &lt;chr&gt; | NAME &lt;chr&gt; | NAME_LABEL &lt;chr&gt; | AUTH_ORG_CODE &lt;int&gt; | AUTH_ORG_ID &lt;int&gt; | AUTH_ORG_VERIFIED &lt;chr&gt; | VMADD_PFI &lt;int&gt; | VICNAMES_ID &lt;int&gt; | VICNAMES_STATUS_CODE &lt;int&gt; | STATE &lt;chr&gt; | CREATE_DATE_PFI &lt;chr&gt; | CREATE_DATE_UFI &lt;chr&gt; | OBJECTID &lt;int&gt; | PARENT_FEATURE_ID &lt;int&gt; | PARENT_NAME &lt;chr&gt; | SHAPE &lt;POINT [°]&gt; |\n",
       "|---|---|---|---|---|---|---|---|---|---|---|---|---|---|---|---|---|---|---|---|\n",
       "| VMFEAT_CFA_FIRE_STATION.62926122 | 655590 | 655590 | emergency facility | fire station | KARABEAL FIRE STATION   | Karabeal Fire Station   | 106 | 917 | 2022-03-22T00:00:00Z | 425361444 |    13118 | 10 | VIC | 2010-04-01T10:26:44Z | 2022-03-25T11:28:46Z | 1997676 |     NA | NA | POINT (142.2315 -37.5882) |\n",
       "| VMFEAT_CFA_FIRE_STATION.62926123 | 655591 | 655591 | emergency facility | fire station | KARNAK FIRE STATION     | Karnak Fire Station     | 106 | 620 | 2022-03-22T00:00:00Z |  54327520 | -1909887 | 11 | VIC | 2010-04-01T10:26:44Z | 2022-03-25T11:28:46Z | 1997677 | 637910 | NA | POINT (141.4716 -36.8264) |\n",
       "| VMFEAT_CFA_FIRE_STATION.62926124 | 655592 | 655592 | emergency facility | fire station | KARRAMOMUS FIRE STATION | Karramomus Fire Station | 106 | 136 | 2022-03-22T00:00:00Z | 425481983 |    13160 | 10 | VIC | 2010-04-01T10:26:44Z | 2022-03-25T11:28:46Z | 1997678 |     NA | NA | POINT (145.4981 -36.5375) |\n",
       "| VMFEAT_CFA_FIRE_STATION.62926125 | 655593 | 655593 | emergency facility | fire station | KATAMATITE FIRE STATION | Katamatite Fire Station | 106 | 137 | 2022-03-22T00:00:00Z |  54237347 |    13174 | 10 | VIC | 2010-04-01T10:26:44Z | 2022-03-25T11:28:46Z | 1997679 |     NA | NA | POINT (145.6887 -36.0788) |\n",
       "| VMFEAT_CFA_FIRE_STATION.62926126 | 655594 | 655594 | emergency facility | fire station | KATANDRA FIRE STATION   | Katandra Fire Station   | 106 | 138 | 2022-03-22T00:00:00Z |  54113246 |    13181 | 10 | VIC | 2010-04-01T10:26:44Z | 2022-03-25T11:28:46Z | 1997680 |     NA | NA | POINT (145.5592 -36.2256) |\n",
       "| VMFEAT_CFA_FIRE_STATION.62926127 | 655595 | 655595 | emergency facility | fire station | KATUNGA FIRE STATION    | Katunga Fire Station    | 106 | 139 | 2022-03-22T00:00:00Z | 423884498 |    13202 | 10 | VIC | 2010-04-01T10:26:44Z | 2022-03-25T11:28:46Z | 1997681 |     NA | NA | POINT (145.4573 -35.9993) |\n",
       "\n"
      ],
      "text/plain": [
       "  gml_id                           PFI    FEATURE_ID FEATURE_TYPE      \n",
       "1 VMFEAT_CFA_FIRE_STATION.62926122 655590 655590     emergency facility\n",
       "2 VMFEAT_CFA_FIRE_STATION.62926123 655591 655591     emergency facility\n",
       "3 VMFEAT_CFA_FIRE_STATION.62926124 655592 655592     emergency facility\n",
       "4 VMFEAT_CFA_FIRE_STATION.62926125 655593 655593     emergency facility\n",
       "5 VMFEAT_CFA_FIRE_STATION.62926126 655594 655594     emergency facility\n",
       "6 VMFEAT_CFA_FIRE_STATION.62926127 655595 655595     emergency facility\n",
       "  FEATURE_SUBTYPE NAME                    NAME_LABEL              AUTH_ORG_CODE\n",
       "1 fire station    KARABEAL FIRE STATION   Karabeal Fire Station   106          \n",
       "2 fire station    KARNAK FIRE STATION     Karnak Fire Station     106          \n",
       "3 fire station    KARRAMOMUS FIRE STATION Karramomus Fire Station 106          \n",
       "4 fire station    KATAMATITE FIRE STATION Katamatite Fire Station 106          \n",
       "5 fire station    KATANDRA FIRE STATION   Katandra Fire Station   106          \n",
       "6 fire station    KATUNGA FIRE STATION    Katunga Fire Station    106          \n",
       "  AUTH_ORG_ID AUTH_ORG_VERIFIED    VMADD_PFI VICNAMES_ID VICNAMES_STATUS_CODE\n",
       "1 917         2022-03-22T00:00:00Z 425361444    13118    10                  \n",
       "2 620         2022-03-22T00:00:00Z  54327520 -1909887    11                  \n",
       "3 136         2022-03-22T00:00:00Z 425481983    13160    10                  \n",
       "4 137         2022-03-22T00:00:00Z  54237347    13174    10                  \n",
       "5 138         2022-03-22T00:00:00Z  54113246    13181    10                  \n",
       "6 139         2022-03-22T00:00:00Z 423884498    13202    10                  \n",
       "  STATE CREATE_DATE_PFI      CREATE_DATE_UFI      OBJECTID PARENT_FEATURE_ID\n",
       "1 VIC   2010-04-01T10:26:44Z 2022-03-25T11:28:46Z 1997676      NA           \n",
       "2 VIC   2010-04-01T10:26:44Z 2022-03-25T11:28:46Z 1997677  637910           \n",
       "3 VIC   2010-04-01T10:26:44Z 2022-03-25T11:28:46Z 1997678      NA           \n",
       "4 VIC   2010-04-01T10:26:44Z 2022-03-25T11:28:46Z 1997679      NA           \n",
       "5 VIC   2010-04-01T10:26:44Z 2022-03-25T11:28:46Z 1997680      NA           \n",
       "6 VIC   2010-04-01T10:26:44Z 2022-03-25T11:28:46Z 1997681      NA           \n",
       "  PARENT_NAME SHAPE                    \n",
       "1 NA          POINT (142.2315 -37.5882)\n",
       "2 NA          POINT (141.4716 -36.8264)\n",
       "3 NA          POINT (145.4981 -36.5375)\n",
       "4 NA          POINT (145.6887 -36.0788)\n",
       "5 NA          POINT (145.5592 -36.2256)\n",
       "6 NA          POINT (145.4573 -35.9993)"
      ]
     },
     "metadata": {},
     "output_type": "display_data"
    }
   ],
   "source": [
    "View(head(data))"
   ]
  },
  {
   "cell_type": "markdown",
   "id": "b7ce8ee8-2f76-4737-841e-8c09ce2b85c4",
   "metadata": {},
   "source": [
    "### e.  Visualise data"
   ]
  },
  {
   "cell_type": "markdown",
   "id": "2ba267e1-bf3a-4d04-91b0-632afacca3df",
   "metadata": {},
   "source": [
    "Use the `mapview()` function to visualise the dataset:\n",
    "\n"
   ]
  },
  {
   "cell_type": "code",
   "execution_count": 18,
   "id": "4d6cc6a7-c601-4316-896f-e0c167a8212b",
   "metadata": {
    "vscode": {
     "languageId": "r"
    }
   },
   "outputs": [],
   "source": [
    "mapview(data)"
   ]
  },
  {
   "cell_type": "markdown",
   "id": "6b815f5a-e342-4427-b581-f3c102a549a0",
   "metadata": {},
   "source": [
    "Now you will see fire stations on a map as individual point locations:"
   ]
  },
  {
   "cell_type": "markdown",
   "id": "8ee9b212-6cc1-4757-ac60-7c38a66ea91a",
   "metadata": {},
   "source": [
    "![mapview](https://user-images.githubusercontent.com/106126121/177097879-ea34dfdd-ea65-40d3-9e1b-3c79ec4e6aa2.png)\n"
   ]
  },
  {
   "cell_type": "markdown",
   "id": "a9e4038a-df3e-4f83-88d8-c069d613ec5a",
   "metadata": {},
   "source": [
    "### g. Filter data by bounding box\n",
    "\n",
    "The ADP supports spatial queries that permit filtering your data in a particular spatial area. For example, you can filter the data by bounding box (BBOX). By adding the BBOX, instead of downloading entire datasets, which can be very large and irrelevant to your project, you can download data according to your area of interest. Here we show an example to use the Melbourne CBD as the area of interest. \n",
    "\n",
    "The BBOX parameter allows you to search for features that are contained (or partially contained) inside a box of user-defined coordinates. The format of the BBOX parameter is `bbox=a1,b1,a2,b2,[crs]` where `a1`,`b1`,`a2` and `b2` represent the coordinate values. The `shapely.geometry.box()` function makes a rectangular polygon from the provided BBOX parameters.\n",
    "\n",
    "We recommend using [BBox finder](http://bboxfinder.com/#-37.821684,144.951425,-37.806563,144.976358) to create your BBOX using a base map. Click the rectangle icon and draw a rectangle using your mouse to cover the Melbourne CBD area or any other areas you are interested in.\n",
    "\n",
    "![Screen-Shot-2022-07-12-at-2 41 38-pm-1089x800](https://user-images.githubusercontent.com/106126121/178858710-14892508-aecf-4cfa-9078-bb5fbab94e96.png)\n",
    "\n",
    "Now you can see the selected rectangle is covered in pink. You may check if it is the right area you’d like to collect data from. Copy the BBOX coordinates from the highlighted area, and replace the coordinates after the code `min_x,min_y,max_x,max_y -`. \n",
    "\n",
    "![Screen-Shot-2022-07-12-at-2 44 19-pm-1089x800](https://user-images.githubusercontent.com/106126121/178858739-a1749d5a-b51b-4a84-81ec-09a448a4538b.png)\n",
    "\n",
    "You also need to replace yourName and yourPassword in the code block below with your ADP username and password. If you don’t have ADP credentials, please generate your credentials via the [ADP Access Dashboard](https://adp-access.aurin.org.au/).\n"
   ]
  },
  {
   "cell_type": "code",
   "execution_count": null,
   "id": "995e338f-9ce1-4bbe-88b3-f3583bda68c2",
   "metadata": {
    "vscode": {
     "languageId": "r"
    }
   },
   "outputs": [],
   "source": [
    "###### ------ Libraries ------- ####\n",
    "library(sf)\n",
    "library(httr)\n",
    "library(tidyverse)\n",
    "library(ows4R)\n",
    "library(mapview)\n",
    "library(utils)\n",
    "\n",
    "##### ----- Crendentials ------ #####\n",
    "wfs_url <- \"https://adp.aurin.org.au/geoserver/wfs\"\n",
    "user_name <- \"yourName\"\n",
    "password <- \"yourPassword\"\n",
    "#### ------ Define url ----- ####\n",
    "url <- parse_url(wfs_url)\n",
    "url$hostname <- paste(user_name,\":\",password,\"@\",url$hostname, sep=\"\")\n",
    "\n",
    "#### ------ Select the data set ----- #####\n",
    "ADP_ID = 'datasource-OSM-UoM_AURIN_DB:osm_lines_2017'\n",
    "\n",
    "### ------ Copy vector from http://bboxfinder.com/ ---- #####\n",
    "bbox = '144.927135,-37.828836,145.000648,-37.799408'\n",
    "\n",
    "### ------ Create request ---- #####\n",
    "url$query <- list(service = \"WFS\",\n",
    "                  version='2.0.0',\n",
    "                  request = \"GetFeature\",\n",
    "                  typeNames = ADP_ID,\n",
    "                  bbox=paste0(bbox,',EPSG:4326'))\n",
    "request <- build_url(url)\n",
    "\n",
    "#### ---- Download data from server ----- ####\n",
    "download.file(request, destfile = \"data_bbox.gml\", mode='wb')\n",
    "### ---- Read the data ---- #### \n",
    "data <- read_sf(\"data_bbox.gml\")\n",
    "### --- Show the map --- ###\n",
    "mapview(data)\n",
    "\n"
   ]
  },
  {
   "cell_type": "markdown",
   "id": "9b70d52d-89f6-4c91-b407-e31b07592fc8",
   "metadata": {},
   "source": [
    "\n",
    "Output:\n",
    "\n",
    "![Screen Shot 2022-07-14 at 11 17 56 am](https://user-images.githubusercontent.com/106126121/178866924-69e3f627-abdf-442f-907f-6c12ece156f3.png)\n",
    "\n"
   ]
  }
 ],
 "metadata": {
  "kernelspec": {
   "display_name": "R",
   "language": "R",
   "name": "ir"
  },
  "language_info": {
   "codemirror_mode": "r",
   "file_extension": ".r",
   "mimetype": "text/x-r-source",
   "name": "R",
   "pygments_lexer": "r",
   "version": "4.2.0"
  }
 },
 "nbformat": 4,
 "nbformat_minor": 5
}
